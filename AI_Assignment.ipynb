{
  "nbformat": 4,
  "nbformat_minor": 0,
  "metadata": {
    "colab": {
      "provenance": []
    },
    "kernelspec": {
      "name": "python3",
      "display_name": "Python 3"
    },
    "language_info": {
      "name": "python"
    },
    "gpuClass": "standard"
  },
  "cells": [
    {
      "cell_type": "code",
      "source": [
        "from collections import deque\n",
        "import matplotlib.pyplot as plt\n",
        "import numpy as np\n",
        "import random"
      ],
      "metadata": {
        "id": "WAH_sBcN2MUw"
      },
      "execution_count": null,
      "outputs": []
    },
    {
      "cell_type": "code",
      "source": [
        "class Maze:\n",
        "    def __init__(self, rows, cols, wall_list , wall_density=0.2,stochastic_wall = False):\n",
        "        self.rows = rows\n",
        "        self.cols = cols\n",
        "        self.grid = np.zeros((rows, cols), dtype=int)\n",
        "        if stochastic_wall:\n",
        "            self.generate_grid(wall_density)\n",
        "        else:\n",
        "            self.generate_grid_non_stochastic(wall_list)\n",
        "        \n",
        "    def generate_grid(self, wall_density):\n",
        "        for i in range(self.rows):\n",
        "            for j in range(self.cols):\n",
        "                if random.uniform(0, 1) < wall_density:\n",
        "                    self.grid[i][j] = 1\n",
        "                    \n",
        "    def generate_grid_non_stochastic(self,wall_list):\n",
        "        for wall in wall_list:\n",
        "            self.set_wall(wall[0], wall[1])\n",
        "\n",
        "    def set_wall(self, r, c):\n",
        "        self.grid[r][c] = 1\n",
        "        \n",
        "    def is_wall(self, r, c):\n",
        "        return self.grid[r][c] == 1\n",
        "    \n",
        "    def print_grid(self):\n",
        "        print(self.grid)"
      ],
      "metadata": {
        "id": "8EcWdYvW2-aT"
      },
      "execution_count": null,
      "outputs": []
    },
    {
      "cell_type": "code",
      "source": [
        "def visualize_maze(maze, path=None, title=None):\n",
        "    fig, ax = plt.subplots()\n",
        "    ax.imshow(maze.grid, cmap='binary')\n",
        "    ax.set_xticks(np.arange(0, maze.cols+1, 1)-0.5)\n",
        "    ax.set_yticks(np.arange(0, maze.rows+1, 1)-0.5)\n",
        "    ax.set_xticklabels([])\n",
        "    ax.set_yticklabels([])\n",
        "    for i in range(maze.rows+1):\n",
        "        ax.hlines(i-0.5, -0.5, maze.cols-0.5)\n",
        "    for i in range(maze.cols+1):\n",
        "        ax.vlines(i-0.5, -0.5, maze.rows-0.5)\n",
        "    if path:\n",
        "        path = np.array(path)\n",
        "        ax.plot(path[:, 1], path[:, 0], 'ro-', markersize=10)\n",
        "        ax.plot(path[:, 1], path[:, 0], 'ro', markersize=10)\n",
        "    if title:\n",
        "        ax.set_title(title)\n",
        "    plt.show()\n"
      ],
      "metadata": {
        "id": "Vg0_QIwX0z4h"
      },
      "execution_count": null,
      "outputs": []
    },
    {
      "cell_type": "code",
      "source": [
        "def bfs(maze, start, end):\n",
        "    if maze.grid[end[0]][end[1]] == 1 or maze.grid[start[0]][start[1]] == 1 :\n",
        "        return False\n",
        "    queue = deque([start])\n",
        "    visited = np.zeros(maze.grid.shape, dtype=bool)\n",
        "    visited[start] = True\n",
        "    parent = {start: None}\n",
        "    \n",
        "    while queue:\n",
        "        curr = queue.popleft()\n",
        "        if curr == end:\n",
        "            break\n",
        "        for r, c in [(curr[0]+1, curr[1]), (curr[0]-1, curr[1]), (curr[0], curr[1]+1), (curr[0], curr[1]-1)]:\n",
        "            if 0 <= r < maze.rows and 0 <= c < maze.cols and not visited[r][c] and not maze.is_wall(r, c):\n",
        "                queue.append((r, c))\n",
        "                visited[r][c] = True\n",
        "                parent[(r, c)] = curr\n",
        "                \n",
        "    path = []\n",
        "    curr = end\n",
        "    while curr != start:\n",
        "        path.append(curr)\n",
        "        curr = parent[curr]\n",
        "    path.append(start)\n",
        "    path.reverse()\n",
        "    return path"
      ],
      "metadata": {
        "id": "Bki5yC0e2AWF"
      },
      "execution_count": null,
      "outputs": []
    },
    {
      "cell_type": "code",
      "source": [
        "def dfs(maze, start, end):\n",
        "    if maze.grid[end[0]][end[1]] == 1 or maze.grid[start[0]][start[1]] == 1:\n",
        "        return False\n",
        "    stack = [start]\n",
        "    visited = np.zeros(maze.grid.shape, dtype=bool)\n",
        "    visited[start] = True\n",
        "    parent = {start: None}\n",
        "    \n",
        "    while stack:\n",
        "        curr = stack.pop()\n",
        "        if curr == end:\n",
        "            break\n",
        "        for r, c in [(curr[0]+1, curr[1]), (curr[0]-1, curr[1]), (curr[0], curr[1]+1), (curr[0], curr[1]-1)]:\n",
        "            if 0 <= r < maze.rows and 0 <= c < maze.cols and not visited[r][c] and not maze.is_wall(r, c):\n",
        "                stack.append((r, c))\n",
        "                visited[r][c] = True\n",
        "                parent[(r, c)] = curr\n",
        "                \n",
        "    path = []\n",
        "    curr = end\n",
        "    while curr != start:\n",
        "        path.append(curr)\n",
        "        curr = parent[curr]\n",
        "    path.append(start)\n",
        "    path.reverse()\n",
        "    return path\n"
      ],
      "metadata": {
        "id": "quKXLegB9LRO"
      },
      "execution_count": null,
      "outputs": []
    },
    {
      "cell_type": "code",
      "source": [
        "import heapq\n",
        "\n",
        "def dijkstra(maze, start, end):\n",
        "    if maze.grid[end[0]][end[1]] == 1 or maze.grid[start[0]][start[1]] == 1 :\n",
        "        return False\n",
        "    heap = [(0, start)]\n",
        "    visited = np.zeros(maze.grid.shape, dtype=bool)\n",
        "    visited[start] = True\n",
        "    parent = {start: None}\n",
        "    cost = {start: 0}\n",
        "    \n",
        "    while heap:\n",
        "        curr_cost, curr = heapq.heappop(heap)\n",
        "        if curr == end:\n",
        "            break\n",
        "        for r, c in [(curr[0]+1, curr[1]), (curr[0]-1, curr[1]), (curr[0], curr[1]+1), (curr[0], curr[1]-1)]:\n",
        "            if 0 <= r < maze.rows and 0 <= c < maze.cols and not visited[r][c] and not maze.is_wall(r, c):\n",
        "                new_cost = curr_cost + 1\n",
        "                if curr not in cost or new_cost < cost[curr]:\n",
        "                    cost[(r, c)] = new_cost\n",
        "                    heapq.heappush(heap, (new_cost, (r, c)))\n",
        "                    visited[r][c] = True\n",
        "                    parent[(r, c)] = curr\n",
        "                \n",
        "    path = []\n",
        "    curr = end\n",
        "    while curr != start:\n",
        "        path.append(curr)\n",
        "        curr = parent[curr]\n",
        "    path.append(start)\n",
        "    path.reverse()\n",
        "    return path\n"
      ],
      "metadata": {
        "id": "RCF7PG9h9yfh"
      },
      "execution_count": null,
      "outputs": []
    },
    {
      "cell_type": "code",
      "source": [
        "def dij_heuristic(position, end):\n",
        "    return 0\n",
        "\n",
        "def l2_heuristic(position, end):\n",
        "    # This can be the euclidean distance or manhattan distance between two points.\n",
        "    return np.sqrt((position[0] - end[0])**2 + (position[1] - end[1])**2)\n",
        "\n",
        "def l1_heuristic(position, end):\n",
        "    # This can be the euclidean distance or manhattan distance between two points.\n",
        "    return ((position[0] - end[0]) + (position[1] - end[1]))\n",
        "\n",
        "def unifrom_random_heuristic(row, col):\n",
        "    return random.uniform(0, 5)\n",
        "\n",
        "def normal_random_heuristic(row, col):\n",
        "    return np.abs(np.random.normal(0, 1))\n"
      ],
      "metadata": {
        "id": "OWMyATOi-NhM"
      },
      "execution_count": null,
      "outputs": []
    },
    {
      "cell_type": "code",
      "source": [
        "from heapq import heappush, heappop\n",
        "import numpy as np\n",
        "\n",
        "def a_star(maze, start, end, heuristic):\n",
        "    if maze.grid[end[0]][end[1]] == 1 or maze.grid[start[0]][start[1]] == 1:\n",
        "        return False\n",
        "    heap = [(0, start)]\n",
        "    visited = np.zeros(maze.grid.shape, dtype=bool)\n",
        "    visited[start] = True\n",
        "    parent = {start: None}\n",
        "    g_score = {start: 0}\n",
        "    \n",
        "    while heap:\n",
        "        curr_g, curr = heappop(heap)\n",
        "        if curr == end:\n",
        "            break\n",
        "        for r, c in [(curr[0]+1, curr[1]), (curr[0]-1, curr[1]), (curr[0], curr[1]+1), (curr[0], curr[1]-1)]:\n",
        "            if 0 <= r < maze.rows and 0 <= c < maze.cols and not visited[r][c] and not maze.is_wall(r, c):\n",
        "                g_score[(r, c)] = g_score[curr] + 1\n",
        "                f_score = g_score[(r, c)] + heuristic(end, (r, c))\n",
        "                heappush(heap, (f_score, (r, c)))\n",
        "                visited[r][c] = True\n",
        "                parent[(r, c)] = curr\n",
        "                \n",
        "    path = []\n",
        "    curr = end\n",
        "    while curr != start:\n",
        "        path.append(curr)\n",
        "        curr = parent[curr]\n",
        "    path.append(start)\n",
        "    path.reverse()\n",
        "    return path\n"
      ],
      "metadata": {
        "id": "_TiMg6Pv-UdN"
      },
      "execution_count": null,
      "outputs": []
    },
    {
      "cell_type": "code",
      "source": [
        "def stochastic_path_traversal(maze, start, end, heuristic):\n",
        "    if maze.grid[end[0]][end[1]] == 1 or maze.grid[start[0]][start[1]] == 1 :\n",
        "        return False\n",
        "    queue = [(0, start)]\n",
        "    visited = np.zeros(maze.grid.shape, dtype=bool)\n",
        "    visited[start] = True\n",
        "    parent = {start: None}\n",
        "    cost = {start: 0}\n",
        "    \n",
        "    while queue:\n",
        "        curr = heapq.heappop(queue)[1]\n",
        "        if curr == end:\n",
        "            break\n",
        "        for r, c in [(curr[0]+1, curr[1]), (curr[0]-1, curr[1]), (curr[0], curr[1]+1), (curr[0], curr[1]-1)]:\n",
        "            if 0 <= r < maze.rows and 0 <= c < maze.cols and not visited[r][c] and not maze.is_wall(r, c):\n",
        "                new_cost = cost[curr] + 1 + heuristic(r, c)\n",
        "                heapq.heappush(queue, (new_cost, (r, c)))\n",
        "                visited[r][c] = True\n",
        "                cost[(r, c)] = new_cost\n",
        "                parent[(r, c)] = curr\n",
        "                \n",
        "    path = []\n",
        "    curr = end\n",
        "    while curr != start:\n",
        "        path.append(curr)\n",
        "        curr = parent[curr]\n",
        "    path.append(start)\n",
        "    path.reverse()\n",
        "    return path\n"
      ],
      "metadata": {
        "id": "_fpjALF8Aq3V"
      },
      "execution_count": null,
      "outputs": []
    },
    {
      "cell_type": "code",
      "source": [
        "wall_list = [(1,1), (1,2), (2,1), (3,3),(3,2) ,(4,4), (5,5),(5,1),(5,2),(5,3),(6,6), (7,7)]\n",
        "maze = Maze(10, 10,wall_list, stochastic_wall= True)\n",
        "start = (0, 0)\n",
        "end = (8, 7)\n",
        "bfs_path = bfs(maze, start, end)\n",
        "dfs_path = dfs(maze, start, end)\n",
        "dij_path = a_star(maze, start, end, dij_heuristic)\n",
        "l2_a_path = a_star(maze, start, end, l2_heuristic)\n",
        "l1_a_path = a_star(maze, start, end, l1_heuristic)\n",
        "s_path = stochastic_path_traversal(maze, start, end, normal_random_heuristic)\n",
        "if not bfs_path:\n",
        "    print(\"Cannot Reach. Wall at target or start\")\n",
        "else:\n",
        "    visualize_maze(maze,bfs_path,title = \"BFS {0}\".format(len(bfs_path)))\n",
        "    visualize_maze(maze,dfs_path,title = \"DFS {0}\".format(len(dfs_path)))\n",
        "    visualize_maze(maze,dij_path,title = \"DIJIKSTRAS {0}\".format(len(dij_path)))\n",
        "    visualize_maze(maze,l2_a_path,title = \"A* l2 {0}\".format(len(l2_a_path)))\n",
        "    visualize_maze(maze,l1_a_path,title = \"A* l1 {0}\".format(len(l1_a_path)))\n",
        "    visualize_maze(maze,s_path,title = \"Stochastic Path* {0}\".format(len(s_path)))\n",
        "\n"
      ],
      "metadata": {
        "colab": {
          "base_uri": "https://localhost:8080/",
          "height": 1000
        },
        "id": "PZRdCOlY1HKd",
        "outputId": "dcfb575e-bd90-4961-eac2-d5152db262af"
      },
      "execution_count": null,
      "outputs": [
        {
          "output_type": "display_data",
          "data": {
            "text/plain": [
              "<Figure size 432x288 with 1 Axes>"
            ],
            "image/png": "[encoded data removed]"
          },
          "metadata": {
            "needs_background": "light"
          }
        },
        {
          "output_type": "display_data",
          "data": {
            "text/plain": [
              "<Figure size 432x288 with 1 Axes>"
            ],
            "image/png": "[encoded data removed]"
          },
          "metadata": {
            "needs_background": "light"
          }
        },
        {
          "output_type": "display_data",
          "data": {
            "text/plain": [
              "<Figure size 432x288 with 1 Axes>"
            ],
            "image/png": "[encoded data removed]"
          },
          "metadata": {
            "needs_background": "light"
          }
        },
        {
          "output_type": "display_data",
          "data": {
            "text/plain": [
              "<Figure size 432x288 with 1 Axes>"
            ],
            "image/png": "[encoded data removed]"
          },
          "metadata": {
            "needs_background": "light"
          }
        },
        {
          "output_type": "display_data",
          "data": {
            "text/plain": [
              "<Figure size 432x288 with 1 Axes>"
            ],
            "image/png": "[encoded data removed]"
          },
          "metadata": {
            "needs_background": "light"
          }
        },
        {
          "output_type": "display_data",
          "data": {
            "text/plain": [
              "<Figure size 432x288 with 1 Axes>"
            ],
            "image/png": "[encoded data removed]"
          },
          "metadata": {
            "needs_background": "light"
          }
        }
      ]
    }
  ]
}